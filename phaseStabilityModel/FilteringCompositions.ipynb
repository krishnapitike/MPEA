{
 "cells": [
  {
   "cell_type": "markdown",
   "metadata": {},
   "source": [
    "# importing modules"
   ]
  },
  {
   "cell_type": "code",
   "execution_count": 27,
   "metadata": {},
   "outputs": [],
   "source": [
    "import numpy as np\n",
    "import pandas as pd\n",
    "from sklearn.model_selection import train_test_split\n",
    "from sklearn.linear_model import LinearRegression\n",
    "from sklearn.tree import DecisionTreeRegressor\n",
    "from sklearn.ensemble import RandomForestRegressor\n",
    "from sklearn.ensemble import GradientBoostingClassifier\n",
    "from xgboost import XGBRegressor\n",
    "from sklearn.svm import SVR\n",
    "from sklearn.neural_network import MLPRegressor\n",
    "\n",
    "from sklearn.metrics import mean_squared_error\n",
    "from sklearn.metrics import mean_absolute_error\n"
   ]
  },
  {
   "cell_type": "markdown",
   "metadata": {},
   "source": [
    "# loading data"
   ]
  },
  {
   "cell_type": "code",
   "execution_count": 28,
   "metadata": {},
   "outputs": [],
   "source": [
    "# Load data\n",
    "data = pd.read_csv('thermoData.csv')"
   ]
  },
  {
   "cell_type": "code",
   "execution_count": null,
   "metadata": {},
   "outputs": [
    {
     "name": "stdout",
     "output_type": "stream",
     "text": [
      "XGBoost Model for Column 5\n",
      "  - RMSE (Train): 25.74\n",
      "  - RMSE (Test): 30.08\n",
      "\n",
      "XGBoost Model for Column 6\n",
      "  - RMSE (Train): 12.65\n",
      "  - RMSE (Test): 19.58\n",
      "\n"
     ]
    }
   ],
   "source": []
  },
  {
   "cell_type": "code",
   "execution_count": 65,
   "metadata": {},
   "outputs": [
    {
     "name": "stdout",
     "output_type": "stream",
     "text": [
      "XGBoost Model for Column 5\n",
      "  - RMSE (Train): 25.74\n",
      "  - RMSE (Test): 30.08\n",
      "\n",
      "XGBoost Model for Column 6\n",
      "  - RMSE (Train): 12.65\n",
      "  - RMSE (Test): 19.58\n",
      "\n",
      "Shape: (176851, 4)\n",
      "[3083.0735 3083.0735 3083.0735 ... 1961.9154 1961.9154 1961.9154] [ 656.8539  656.8539  656.8539 ... 1293.2653 1293.2653 1293.2653]\n"
     ]
    }
   ],
   "source": [
    "import numpy as np\n",
    "import pandas as pd\n",
    "from sklearn.model_selection import train_test_split\n",
    "from sklearn.linear_model import LinearRegression\n",
    "from sklearn.tree import DecisionTreeRegressor\n",
    "from sklearn.ensemble import RandomForestRegressor\n",
    "from sklearn.ensemble import GradientBoostingClassifier\n",
    "from xgboost import XGBRegressor\n",
    "from sklearn.svm import SVR\n",
    "from sklearn.neural_network import MLPRegressor\n",
    "\n",
    "from sklearn.metrics import mean_squared_error\n",
    "from sklearn.metrics import mean_absolute_error\n",
    "\n",
    "# Load data\n",
    "data = pd.read_csv('thermoData.csv')\n",
    "\n",
    "# Function to train and evaluate an XGBoost model\n",
    "def train_xgboost(fit_what):\n",
    "    y = np.array(data.iloc[:, fit_what])  # Select target column\n",
    "    \n",
    "    # Split data\n",
    "    X_train, X_test, y_train, y_test = train_test_split(X, y, test_size=0.2, random_state=10)\n",
    "    \n",
    "    # Define XGBoost model\n",
    "    model = XGBRegressor(n_estimators=100, learning_rate=0.1, max_depth=3)\n",
    "    \n",
    "    # Train the model\n",
    "    model.fit(X_train, y_train)\n",
    "    \n",
    "    # Predictions\n",
    "    predictions_test = model.predict(X_test)\n",
    "    predictions_train = model.predict(X_train)\n",
    "    \n",
    "    # Calculate RMSE\n",
    "    rmse_test = np.sqrt(mean_squared_error(y_test, predictions_test))\n",
    "    rmse_train = np.sqrt(mean_squared_error(y_train, predictions_train))\n",
    "    \n",
    "    # Print results\n",
    "    print(f'XGBoost Model for Column {fit_what}')\n",
    "    print(f'  - RMSE (Train): {rmse_train:.2f}')\n",
    "    print(f'  - RMSE (Test): {rmse_test:.2f}\\n')\n",
    "    \n",
    "    return model\n",
    "\n",
    "# Train XGBoost for column 5 and 6\n",
    "model_beta = train_xgboost(5)\n",
    "model_solidus = train_xgboost(6)\n",
    "\n",
    "def generate_quaternary_compositions(steps):\n",
    "    \"\"\"\n",
    "    Generate a grid of quaternary compositions with specified steps between points.\n",
    "    Ensures that the sum of each row is always 1.0.\n",
    "    \n",
    "    Parameters:\n",
    "        steps (int): Number of step divisions along each axis.\n",
    "\n",
    "    Returns:\n",
    "        np.array: A (n,4) array where each row sums to 1.\n",
    "    \"\"\"\n",
    "    compositions = []\n",
    "    for i in range(steps + 1):\n",
    "        for j in range(steps + 1 - i):\n",
    "            for k in range(steps + 1 - i - j):\n",
    "                l = steps - i - j - k  # Ensure sum is 1.0\n",
    "                A = i / steps\n",
    "                B = j / steps\n",
    "                C = k / steps\n",
    "                D = l / steps\n",
    "                compositions.append([A, B, C, D])\n",
    "\n",
    "    return np.array(compositions)*100\n",
    "\n",
    "# Example usage\n",
    "steps = 100  # Defines the resolution\n",
    "quaternary_compositions = generate_quaternary_compositions(steps)\n",
    "\n",
    "# Display results\n",
    "#print(quaternary_compositions[:])  # Show first 10 compositions\n",
    "print(\"Shape:\", quaternary_compositions.shape)  # Should be (N,4)\n",
    "#print(\"Row sums:\", quaternary_compositions.sum(axis=1))  # Should all be 1.0\n",
    "\n",
    "\n",
    "solidus=model_solidus.predict(quaternary_compositions)\n",
    "\n",
    "beta=model_beta.predict(quaternary_compositions)\n",
    "\n",
    "print(solidus,beta)\n"
   ]
  },
  {
   "cell_type": "code",
   "execution_count": null,
   "metadata": {},
   "outputs": [
    {
     "name": "stdout",
     "output_type": "stream",
     "text": [
      "[2084.7197 2084.7197 2084.7197 ... 2084.7197 2084.7197 2084.7197] [850.4621 850.4621 850.4621 ... 850.4621 850.4621 850.4621]\n"
     ]
    }
   ],
   "source": []
  },
  {
   "cell_type": "code",
   "execution_count": null,
   "metadata": {},
   "outputs": [
    {
     "name": "stdout",
     "output_type": "stream",
     "text": [
      "1\n",
      "[[   5.           20.           20.           55.          783.64752197\n",
      "  2217.86914062]]\n"
     ]
    }
   ],
   "source": [
    "tstep=0\n",
    "solidus_threshold = 2200-tstep\n",
    "beta_threshold = 806+tstep\n",
    "filtered_data=[]\n",
    "for i,val in enumerate(quaternary_compositions):\n",
    "    if(solidus[i]>solidus_threshold and beta[i]<beta_threshold and val[0] >= 5 and val [1] >= 5 and val[2] >= 5 and val[3]>=5):\n",
    "        filtered_data.append([val[0],val[1],val[2],val[3],beta[i],solidus[i]])\n",
    "filtered_data=np.array(filtered_data)\n",
    "print(len(filtered_data))\n",
    "print(filtered_data)\n"
   ]
  },
  {
   "cell_type": "code",
   "execution_count": 86,
   "metadata": {},
   "outputs": [
    {
     "name": "stdout",
     "output_type": "stream",
     "text": [
      "3092.389 511.4256\n"
     ]
    }
   ],
   "source": [
    "print(np.max(solidus),np.min(beta))"
   ]
  },
  {
   "cell_type": "code",
   "execution_count": 58,
   "metadata": {},
   "outputs": [
    {
     "name": "stdout",
     "output_type": "stream",
     "text": [
      "[2070.4866 2070.4866 2070.4866 ... 2070.4866 2070.4866 2070.4866]\n"
     ]
    }
   ],
   "source": [
    "print(solidus)"
   ]
  },
  {
   "cell_type": "code",
   "execution_count": 60,
   "metadata": {},
   "outputs": [
    {
     "name": "stdout",
     "output_type": "stream",
     "text": [
      "[0. 0. 0. 1.]\n"
     ]
    }
   ],
   "source": [
    "print(quaternary_compositions[0])"
   ]
  },
  {
   "cell_type": "code",
   "execution_count": null,
   "metadata": {},
   "outputs": [],
   "source": []
  }
 ],
 "metadata": {
  "kernelspec": {
   "display_name": "myenv",
   "language": "python",
   "name": "python3"
  },
  "language_info": {
   "codemirror_mode": {
    "name": "ipython",
    "version": 3
   },
   "file_extension": ".py",
   "mimetype": "text/x-python",
   "name": "python",
   "nbconvert_exporter": "python",
   "pygments_lexer": "ipython3",
   "version": "3.11.11"
  }
 },
 "nbformat": 4,
 "nbformat_minor": 2
}
